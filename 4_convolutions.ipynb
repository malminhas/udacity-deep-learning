{
 "cells": [
  {
   "cell_type": "markdown",
   "metadata": {
    "colab_type": "text",
    "id": "4embtkV0pNxM"
   },
   "source": [
    "Deep Learning\n",
    "=============\n",
    "\n",
    "Assignment 4\n",
    "------------\n",
    "\n",
    "Previously in `2_fullyconnected.ipynb` and `3_regularization.ipynb`, we trained fully connected networks to classify [notMNIST](http://yaroslavvb.blogspot.com/2011/09/notmnist-dataset.html) characters.\n",
    "\n",
    "The goal of this assignment is make the neural network convolutional."
   ]
  },
  {
   "cell_type": "code",
   "execution_count": 1,
   "metadata": {
    "cellView": "both",
    "colab": {
     "autoexec": {
      "startup": false,
      "wait_interval": 0
     }
    },
    "colab_type": "code",
    "collapsed": true,
    "id": "tm2CQN_Cpwj0"
   },
   "outputs": [],
   "source": [
    "# These are all the modules we'll be using later. Make sure you can import them\n",
    "# before proceeding further.\n",
    "from __future__ import print_function\n",
    "import numpy as np\n",
    "import tensorflow as tf\n",
    "from six.moves import cPickle as pickle\n",
    "from six.moves import range"
   ]
  },
  {
   "cell_type": "code",
   "execution_count": 2,
   "metadata": {
    "cellView": "both",
    "colab": {
     "autoexec": {
      "startup": false,
      "wait_interval": 0
     },
     "output_extras": [
      {
       "item_id": 1
      }
     ]
    },
    "colab_type": "code",
    "collapsed": false,
    "executionInfo": {
     "elapsed": 11948,
     "status": "ok",
     "timestamp": 1446658914837,
     "user": {
      "color": "",
      "displayName": "",
      "isAnonymous": false,
      "isMe": true,
      "permissionId": "",
      "photoUrl": "",
      "sessionId": "0",
      "userId": ""
     },
     "user_tz": 480
    },
    "id": "y3-cj1bpmuxc",
    "outputId": "016b1a51-0290-4b08-efdb-8c95ffc3cd01"
   },
   "outputs": [
    {
     "name": "stdout",
     "output_type": "stream",
     "text": [
      "Training set (200000, 28, 28) (200000,)\n",
      "Validation set (10000, 28, 28) (10000,)\n",
      "Test set (10000, 28, 28) (10000,)\n"
     ]
    }
   ],
   "source": [
    "pickle_file = 'notMNIST.pickle'\n",
    "\n",
    "with open(pickle_file, 'rb') as f:\n",
    "    save = pickle.load(f)\n",
    "    train_dataset = save['train_dataset']\n",
    "    train_labels = save['train_labels']\n",
    "    valid_dataset = save['valid_dataset']\n",
    "    valid_labels = save['valid_labels']\n",
    "    test_dataset = save['test_dataset']\n",
    "    test_labels = save['test_labels']\n",
    "    del save  # hint to help gc free up memory\n",
    "    print('Training set', train_dataset.shape, train_labels.shape)\n",
    "    print('Validation set', valid_dataset.shape, valid_labels.shape)\n",
    "    print('Test set', test_dataset.shape, test_labels.shape)"
   ]
  },
  {
   "cell_type": "markdown",
   "metadata": {
    "colab_type": "text",
    "id": "L7aHrm6nGDMB"
   },
   "source": [
    "Reformat into a TensorFlow-friendly shape:\n",
    "- convolutions need the image data formatted as a cube (width by height by #channels)\n",
    "- labels as float 1-hot encodings."
   ]
  },
  {
   "cell_type": "code",
   "execution_count": 3,
   "metadata": {
    "cellView": "both",
    "colab": {
     "autoexec": {
      "startup": false,
      "wait_interval": 0
     },
     "output_extras": [
      {
       "item_id": 1
      }
     ]
    },
    "colab_type": "code",
    "collapsed": false,
    "executionInfo": {
     "elapsed": 11952,
     "status": "ok",
     "timestamp": 1446658914857,
     "user": {
      "color": "",
      "displayName": "",
      "isAnonymous": false,
      "isMe": true,
      "permissionId": "",
      "photoUrl": "",
      "sessionId": "0",
      "userId": ""
     },
     "user_tz": 480
    },
    "id": "IRSyYiIIGIzS",
    "outputId": "650a208c-8359-4852-f4f5-8bf10e80ef6c"
   },
   "outputs": [
    {
     "name": "stdout",
     "output_type": "stream",
     "text": [
      "Training set (200000, 28, 28, 1) (200000, 10)\n",
      "Validation set (10000, 28, 28, 1) (10000, 10)\n",
      "Test set (10000, 28, 28, 1) (10000, 10)\n"
     ]
    }
   ],
   "source": [
    "image_size = 28\n",
    "num_labels = 10\n",
    "num_channels = 1 # grayscale\n",
    "\n",
    "import numpy as np\n",
    "\n",
    "def reformat(dataset, labels):\n",
    "    dataset = dataset.reshape(\n",
    "      (-1, image_size, image_size, num_channels)).astype(np.float32)\n",
    "    labels = (np.arange(num_labels) == labels[:,None]).astype(np.float32)\n",
    "    return dataset, labels\n",
    "train_dataset, train_labels = reformat(train_dataset, train_labels)\n",
    "valid_dataset, valid_labels = reformat(valid_dataset, valid_labels)\n",
    "test_dataset, test_labels = reformat(test_dataset, test_labels)\n",
    "print('Training set', train_dataset.shape, train_labels.shape)\n",
    "print('Validation set', valid_dataset.shape, valid_labels.shape)\n",
    "print('Test set', test_dataset.shape, test_labels.shape)"
   ]
  },
  {
   "cell_type": "code",
   "execution_count": 4,
   "metadata": {
    "cellView": "both",
    "colab": {
     "autoexec": {
      "startup": false,
      "wait_interval": 0
     }
    },
    "colab_type": "code",
    "collapsed": true,
    "id": "AgQDIREv02p1"
   },
   "outputs": [],
   "source": [
    "def accuracy(predictions, labels):\n",
    "  return (100.0 * np.sum(np.argmax(predictions, 1) == np.argmax(labels, 1))\n",
    "          / predictions.shape[0])"
   ]
  },
  {
   "cell_type": "markdown",
   "metadata": {
    "colab_type": "text",
    "id": "5rhgjmROXu2O"
   },
   "source": [
    "Let's build a small network with two convolutional layers, followed by one fully connected layer. Convolutional networks are more expensive computationally, so we'll limit its depth and number of fully connected nodes."
   ]
  },
  {
   "cell_type": "code",
   "execution_count": 5,
   "metadata": {
    "cellView": "both",
    "colab": {
     "autoexec": {
      "startup": false,
      "wait_interval": 0
     }
    },
    "colab_type": "code",
    "collapsed": true,
    "id": "IZYv70SvvOan"
   },
   "outputs": [],
   "source": [
    "batch_size = 16\n",
    "patch_size = 5\n",
    "depth = 16\n",
    "num_hidden = 64\n",
    "\n",
    "graph = tf.Graph()\n",
    "\n",
    "with graph.as_default():\n",
    "\n",
    "    # Input data.\n",
    "    tf_train_dataset = tf.placeholder(\n",
    "      tf.float32, shape=(batch_size, image_size, image_size, num_channels))\n",
    "    tf_train_labels = tf.placeholder(tf.float32, shape=(batch_size, num_labels))\n",
    "    tf_valid_dataset = tf.constant(valid_dataset)\n",
    "    tf_test_dataset = tf.constant(test_dataset)\n",
    "  \n",
    "    # Variables.\n",
    "    layer1_weights = tf.Variable(tf.truncated_normal(\n",
    "      [patch_size, patch_size, num_channels, depth], stddev=0.1))\n",
    "    layer1_biases = tf.Variable(tf.zeros([depth]))\n",
    "    layer2_weights = tf.Variable(tf.truncated_normal(\n",
    "      [patch_size, patch_size, depth, depth], stddev=0.1))\n",
    "    layer2_biases = tf.Variable(tf.constant(1.0, shape=[depth]))\n",
    "    layer3_weights = tf.Variable(tf.truncated_normal(\n",
    "      [image_size // 4 * image_size // 4 * depth, num_hidden], stddev=0.1))\n",
    "    layer3_biases = tf.Variable(tf.constant(1.0, shape=[num_hidden]))\n",
    "    layer4_weights = tf.Variable(tf.truncated_normal(\n",
    "      [num_hidden, num_labels], stddev=0.1))\n",
    "    layer4_biases = tf.Variable(tf.constant(1.0, shape=[num_labels]))\n",
    "  \n",
    "    # Model.\n",
    "    def model(data):\n",
    "        conv = tf.nn.conv2d(data, layer1_weights, [1, 2, 2, 1], padding='SAME')\n",
    "        hidden = tf.nn.relu(conv + layer1_biases)\n",
    "        conv = tf.nn.conv2d(hidden, layer2_weights, [1, 2, 2, 1], padding='SAME')\n",
    "        hidden = tf.nn.relu(conv + layer2_biases)\n",
    "        shape = hidden.get_shape().as_list()\n",
    "        reshape = tf.reshape(hidden, [shape[0], shape[1] * shape[2] * shape[3]])\n",
    "        hidden = tf.nn.relu(tf.matmul(reshape, layer3_weights) + layer3_biases)\n",
    "        return tf.matmul(hidden, layer4_weights) + layer4_biases\n",
    "\n",
    "    # Training computation.\n",
    "    logits = model(tf_train_dataset)\n",
    "    loss = tf.reduce_mean(tf.nn.softmax_cross_entropy_with_logits(logits, tf_train_labels))\n",
    "    \n",
    "    # Optimizer.\n",
    "    optimizer = tf.train.GradientDescentOptimizer(0.05).minimize(loss)\n",
    "  \n",
    "    # Predictions for the training, validation, and test data.\n",
    "    train_prediction = tf.nn.softmax(logits)\n",
    "    valid_prediction = tf.nn.softmax(model(tf_valid_dataset))\n",
    "    test_prediction = tf.nn.softmax(model(tf_test_dataset))"
   ]
  },
  {
   "cell_type": "code",
   "execution_count": 7,
   "metadata": {
    "cellView": "both",
    "colab": {
     "autoexec": {
      "startup": false,
      "wait_interval": 0
     },
     "output_extras": [
      {
       "item_id": 37
      }
     ]
    },
    "colab_type": "code",
    "collapsed": false,
    "executionInfo": {
     "elapsed": 63292,
     "status": "ok",
     "timestamp": 1446658966251,
     "user": {
      "color": "",
      "displayName": "",
      "isAnonymous": false,
      "isMe": true,
      "permissionId": "",
      "photoUrl": "",
      "sessionId": "0",
      "userId": ""
     },
     "user_tz": 480
    },
    "id": "noKFb2UovVFR",
    "outputId": "28941338-2ef9-4088-8bd1-44295661e628"
   },
   "outputs": [
    {
     "name": "stdout",
     "output_type": "stream",
     "text": [
      "Initialized\n",
      "Minibatch loss at step 0: 3.459153\n",
      "Minibatch accuracy: 6.2%\n",
      "Validation accuracy: 10.0%\n",
      "Minibatch loss at step 50: 1.542578\n",
      "Minibatch accuracy: 31.2%\n",
      "Validation accuracy: 56.3%\n",
      "Minibatch loss at step 100: 1.173745\n",
      "Minibatch accuracy: 75.0%\n",
      "Validation accuracy: 69.4%\n",
      "Minibatch loss at step 150: 1.045482\n",
      "Minibatch accuracy: 62.5%\n",
      "Validation accuracy: 67.2%\n",
      "Minibatch loss at step 200: 0.882007\n",
      "Minibatch accuracy: 68.8%\n",
      "Validation accuracy: 76.5%\n",
      "Minibatch loss at step 250: 0.706315\n",
      "Minibatch accuracy: 81.2%\n",
      "Validation accuracy: 79.0%\n",
      "Minibatch loss at step 300: 0.333619\n",
      "Minibatch accuracy: 93.8%\n",
      "Validation accuracy: 79.3%\n",
      "Minibatch loss at step 350: 0.644926\n",
      "Minibatch accuracy: 75.0%\n",
      "Validation accuracy: 80.4%\n",
      "Minibatch loss at step 400: 0.765317\n",
      "Minibatch accuracy: 81.2%\n",
      "Validation accuracy: 80.4%\n",
      "Minibatch loss at step 450: 0.871855\n",
      "Minibatch accuracy: 75.0%\n",
      "Validation accuracy: 79.9%\n",
      "Minibatch loss at step 500: 0.304989\n",
      "Minibatch accuracy: 87.5%\n",
      "Validation accuracy: 81.3%\n",
      "Minibatch loss at step 550: 0.650514\n",
      "Minibatch accuracy: 81.2%\n",
      "Validation accuracy: 80.1%\n",
      "Minibatch loss at step 600: 1.222596\n",
      "Minibatch accuracy: 81.2%\n",
      "Validation accuracy: 79.5%\n",
      "Minibatch loss at step 650: 1.170069\n",
      "Minibatch accuracy: 62.5%\n",
      "Validation accuracy: 81.6%\n",
      "Minibatch loss at step 700: 0.315514\n",
      "Minibatch accuracy: 87.5%\n",
      "Validation accuracy: 81.0%\n",
      "Minibatch loss at step 750: 0.810973\n",
      "Minibatch accuracy: 75.0%\n",
      "Validation accuracy: 82.5%\n",
      "Minibatch loss at step 800: 0.585656\n",
      "Minibatch accuracy: 75.0%\n",
      "Validation accuracy: 81.3%\n",
      "Minibatch loss at step 850: 0.683406\n",
      "Minibatch accuracy: 68.8%\n",
      "Validation accuracy: 81.8%\n",
      "Minibatch loss at step 900: 0.400925\n",
      "Minibatch accuracy: 93.8%\n",
      "Validation accuracy: 83.2%\n",
      "Minibatch loss at step 950: 0.962259\n",
      "Minibatch accuracy: 68.8%\n",
      "Validation accuracy: 82.4%\n",
      "Minibatch loss at step 1000: 0.877937\n",
      "Minibatch accuracy: 75.0%\n",
      "Validation accuracy: 83.1%\n",
      "Test accuracy: 89.8%\n"
     ]
    }
   ],
   "source": [
    "num_steps = 1001\n",
    "\n",
    "with tf.Session(graph=graph) as session:\n",
    "    tf.initialize_all_variables().run()\n",
    "    print('Initialized')\n",
    "    for step in range(num_steps):\n",
    "        offset = (step * batch_size) % (train_labels.shape[0] - batch_size)\n",
    "        batch_data = train_dataset[offset:(offset + batch_size), :, :, :]\n",
    "        batch_labels = train_labels[offset:(offset + batch_size), :]\n",
    "        feed_dict = {tf_train_dataset : batch_data, tf_train_labels : batch_labels}\n",
    "        _, l, predictions = session.run(\n",
    "          [optimizer, loss, train_prediction], feed_dict=feed_dict)\n",
    "        if (step % 50 == 0):\n",
    "            print('Minibatch loss at step %d: %f' % (step, l))\n",
    "            print('Minibatch accuracy: %.1f%%' % accuracy(predictions, batch_labels))\n",
    "            print('Validation accuracy: %.1f%%' % accuracy(valid_prediction.eval(), valid_labels))\n",
    "    print('Test accuracy: %.1f%%' % accuracy(test_prediction.eval(), test_labels))"
   ]
  },
  {
   "cell_type": "markdown",
   "metadata": {
    "colab_type": "text",
    "id": "KedKkn4EutIK"
   },
   "source": [
    "---\n",
    "Problem 1\n",
    "---------\n",
    "\n",
    "The convolutional model above uses convolutions with stride 2 to reduce the dimensionality. Replace the strides by a max pooling operation (`nn.max_pool()`) of stride 2 and kernel size 2.\n",
    "\n",
    "---"
   ]
  },
  {
   "cell_type": "code",
   "execution_count": 6,
   "metadata": {
    "collapsed": false
   },
   "outputs": [
    {
     "name": "stdout",
     "output_type": "stream",
     "text": [
      "Problem1\n",
      "[16, 28, 28, 1]\n",
      "[16, 14, 14, 16]\n",
      "[16, 7, 7, 16]\n",
      "[10000, 28, 28, 1]\n",
      "[10000, 14, 14, 16]\n",
      "[10000, 7, 7, 16]\n",
      "[10000, 28, 28, 1]\n",
      "[10000, 14, 14, 16]\n",
      "[10000, 7, 7, 16]\n"
     ]
    }
   ],
   "source": [
    "batch_size = 16\n",
    "patch_size = 5\n",
    "depth = 16\n",
    "num_hidden = 64\n",
    "\n",
    "graph = tf.Graph()\n",
    "\n",
    "print(\"Problem1\")\n",
    "with graph.as_default():\n",
    "\n",
    "    # Input data.\n",
    "    tf_train_dataset = tf.placeholder(\n",
    "      tf.float32, shape=(batch_size, image_size, image_size, num_channels))\n",
    "    tf_train_labels = tf.placeholder(tf.float32, shape=(batch_size, num_labels))\n",
    "    tf_valid_dataset = tf.constant(valid_dataset)\n",
    "    tf_test_dataset = tf.constant(test_dataset)\n",
    "  \n",
    "    # Variables.\n",
    "    # Dimensions for conv weights are: \n",
    "    # patch_height x patch_width x #channels x depth\n",
    "    layer1_weights = tf.Variable(tf.truncated_normal(\n",
    "      [patch_size, patch_size, num_channels, depth], stddev=0.1))\n",
    "    layer1_biases = tf.Variable(tf.zeros([depth]))\n",
    "    layer2_weights = tf.Variable(tf.truncated_normal(\n",
    "      [patch_size, patch_size, depth, depth], stddev=0.1))\n",
    "    layer2_biases = tf.Variable(tf.constant(1.0, shape=[depth]))\n",
    "    # Divide by 4 here, as images have been halved twice during max pooling steps\n",
    "    layer3_weights = tf.Variable(tf.truncated_normal(\n",
    "      [image_size // 4 * image_size // 4 * depth, num_hidden], stddev=0.1))\n",
    "    layer3_biases = tf.Variable(tf.constant(1.0, shape=[num_hidden]))\n",
    "    layer4_weights = tf.Variable(tf.truncated_normal(\n",
    "      [num_hidden, num_labels], stddev=0.1))\n",
    "    layer4_biases = tf.Variable(tf.constant(1.0, shape=[num_labels]))\n",
    "  \n",
    "    # Model.\n",
    "    def model(data):\n",
    "        # Hidden layer 1\n",
    "        #conv = tf.nn.conv2d(data, layer1_weights, [1, 2, 2, 1], padding='SAME')\n",
    "        #hidden = tf.nn.relu(conv + layer1_biases)\n",
    "        # Dimensions for strides are:\n",
    "        # batch x patch_height x patch_width x #channels\n",
    "        # e.g. [1, 2, 2, 1]\n",
    "        conv = tf.nn.conv2d(data, layer1_weights, [1, 1, 1, 1], padding='SAME')\n",
    "        print(data.get_shape().as_list())\n",
    "        # Do max-pooling with patch size of 2x2 and stride of 2x2, include all batches and channels\n",
    "        maxpool = tf.nn.max_pool(conv, [1, 2, 2, 1], [1, 2, 2, 1], padding='SAME')\n",
    "        hidden = tf.nn.relu(maxpool + layer1_biases)\n",
    "        print(hidden.get_shape().as_list())\n",
    "        #\n",
    "        # Hidden layer 2\n",
    "        #conv = tf.nn.conv2d(hidden, layer2_weights, [1, 2, 2, 1], padding='SAME')\n",
    "        #hidden = tf.nn.relu(conv + layer2_biases)\n",
    "        conv = tf.nn.conv2d(hidden, layer2_weights, [1, 1, 1, 1], padding='SAME')\n",
    "        maxpool = tf.nn.max_pool(conv, [1, 2, 2, 1], [1, 2, 2, 1], padding='SAME')\n",
    "        hidden = tf.nn.relu(maxpool + layer2_biases)\n",
    "        shape = hidden.get_shape().as_list()\n",
    "        print(shape)\n",
    "        #\n",
    "        # Fully connected final layer: batch_size x total_features\n",
    "        # Rollout height, width and feature_map into total features\n",
    "        reshape = tf.reshape(hidden, [shape[0], shape[1] * shape[2] * shape[3]])\n",
    "        hidden = tf.nn.relu(tf.matmul(reshape, layer3_weights) + layer3_biases)\n",
    "        return tf.matmul(hidden, layer4_weights) + layer4_biases\n",
    "\n",
    "    # Training computation.\n",
    "    logits = model(tf_train_dataset)\n",
    "    loss = tf.reduce_mean(tf.nn.softmax_cross_entropy_with_logits(logits, tf_train_labels))\n",
    "    \n",
    "    # Optimizer.\n",
    "    optimizer = tf.train.GradientDescentOptimizer(0.05).minimize(loss)\n",
    "  \n",
    "    # Predictions for the training, validation, and test data.\n",
    "    train_prediction = tf.nn.softmax(logits)\n",
    "    valid_prediction = tf.nn.softmax(model(tf_valid_dataset))\n",
    "    test_prediction = tf.nn.softmax(model(tf_test_dataset))\n"
   ]
  },
  {
   "cell_type": "code",
   "execution_count": 7,
   "metadata": {
    "collapsed": false
   },
   "outputs": [
    {
     "name": "stdout",
     "output_type": "stream",
     "text": [
      "Initialized\n",
      "Minibatch loss at step 0: 2.814492\n",
      "Minibatch accuracy: 6.2%\n",
      "Validation accuracy: 10.0%\n",
      "Minibatch loss at step 50: 1.825976\n",
      "Minibatch accuracy: 31.2%\n",
      "Validation accuracy: 39.3%\n",
      "Minibatch loss at step 100: 1.208937\n",
      "Minibatch accuracy: 68.8%\n",
      "Validation accuracy: 56.3%\n",
      "Minibatch loss at step 150: 0.901899\n",
      "Minibatch accuracy: 68.8%\n",
      "Validation accuracy: 68.3%\n",
      "Minibatch loss at step 200: 0.881065\n",
      "Minibatch accuracy: 68.8%\n",
      "Validation accuracy: 78.7%\n",
      "Minibatch loss at step 250: 0.900500\n",
      "Minibatch accuracy: 68.8%\n",
      "Validation accuracy: 80.1%\n",
      "Minibatch loss at step 300: 0.320497\n",
      "Minibatch accuracy: 93.8%\n",
      "Validation accuracy: 80.7%\n",
      "Minibatch loss at step 350: 0.574538\n",
      "Minibatch accuracy: 75.0%\n",
      "Validation accuracy: 80.0%\n",
      "Minibatch loss at step 400: 0.815669\n",
      "Minibatch accuracy: 75.0%\n",
      "Validation accuracy: 80.8%\n",
      "Minibatch loss at step 450: 0.951818\n",
      "Minibatch accuracy: 68.8%\n",
      "Validation accuracy: 79.9%\n",
      "Minibatch loss at step 500: 0.213410\n",
      "Minibatch accuracy: 100.0%\n",
      "Validation accuracy: 83.2%\n",
      "Minibatch loss at step 550: 0.486456\n",
      "Minibatch accuracy: 75.0%\n",
      "Validation accuracy: 82.2%\n",
      "Minibatch loss at step 600: 1.400446\n",
      "Minibatch accuracy: 75.0%\n",
      "Validation accuracy: 81.3%\n",
      "Minibatch loss at step 650: 1.138508\n",
      "Minibatch accuracy: 62.5%\n",
      "Validation accuracy: 83.0%\n",
      "Minibatch loss at step 700: 0.264180\n",
      "Minibatch accuracy: 87.5%\n",
      "Validation accuracy: 82.7%\n",
      "Minibatch loss at step 750: 0.651341\n",
      "Minibatch accuracy: 81.2%\n",
      "Validation accuracy: 83.9%\n",
      "Minibatch loss at step 800: 0.639289\n",
      "Minibatch accuracy: 75.0%\n",
      "Validation accuracy: 83.2%\n",
      "Minibatch loss at step 850: 0.591433\n",
      "Minibatch accuracy: 81.2%\n",
      "Validation accuracy: 82.6%\n",
      "Minibatch loss at step 900: 0.325814\n",
      "Minibatch accuracy: 87.5%\n",
      "Validation accuracy: 84.0%\n",
      "Minibatch loss at step 950: 0.967972\n",
      "Minibatch accuracy: 68.8%\n",
      "Validation accuracy: 83.7%\n",
      "Minibatch loss at step 1000: 1.029310\n",
      "Minibatch accuracy: 68.8%\n",
      "Validation accuracy: 83.9%\n",
      "Test accuracy: 90.1%\n"
     ]
    }
   ],
   "source": [
    "num_steps = 1001\n",
    "\n",
    "with tf.Session(graph=graph) as session:\n",
    "    tf.initialize_all_variables().run()\n",
    "    print('Initialized')\n",
    "    for step in range(num_steps):\n",
    "        offset = (step * batch_size) % (train_labels.shape[0] - batch_size)\n",
    "        batch_data = train_dataset[offset:(offset + batch_size), :, :, :]\n",
    "        batch_labels = train_labels[offset:(offset + batch_size), :]\n",
    "        feed_dict = {tf_train_dataset : batch_data, tf_train_labels : batch_labels}\n",
    "        _, l, predictions = session.run(\n",
    "          [optimizer, loss, train_prediction], feed_dict=feed_dict)\n",
    "        if (step % 50 == 0):\n",
    "            print('Minibatch loss at step %d: %f' % (step, l))\n",
    "            print('Minibatch accuracy: %.1f%%' % accuracy(predictions, batch_labels))\n",
    "            print('Validation accuracy: %.1f%%' % accuracy(valid_prediction.eval(), valid_labels))\n",
    "    print('Test accuracy: %.1f%%' % accuracy(test_prediction.eval(), test_labels))"
   ]
  },
  {
   "cell_type": "markdown",
   "metadata": {},
   "source": [
    "Unable to run this example on my Ubuntu 14.04 VM with 2GB RAM. Either results in \"ResourceExhaustedError\" or the IPython notebook dies some way in.  Had to up RAM to 8GB and use 2 processors to get the code to run.  Interesting to check the output from this:\n",
    "\n",
    "```$ cat /proc/meminfo | grep Mem```\n",
    "\n",
    "while running this code.  Even with 8GB, the two steps involving acurracy calculations on minibatch see available/free memory drop from ~ 1.8GB to as low as 130MB.\n",
    "\n",
    "Here's the version of Linux I'm using:\n",
    "\n",
    "```malm@malm-VirtualBox ~ $ cat /proc/version\n",
    "Linux version 3.16.0-38-generic (buildd@allspice) (gcc version 4.8.2 (Ubuntu 4.8.2-19ubuntu1) ) #52~14.04.1-Ubuntu SMP Fri May 8 09:43:57 UTC 2015```\n"
   ]
  },
  {
   "cell_type": "markdown",
   "metadata": {
    "colab_type": "text",
    "id": "klf21gpbAgb-"
   },
   "source": [
    "---\n",
    "Problem 2\n",
    "---------\n",
    "\n",
    "Try to get the best performance you can using a convolutional net. Look for example at the classic [LeNet5](http://yann.lecun.com/exdb/lenet/) architecture, adding Dropout, and/or adding learning rate decay.\n",
    "\n",
    "---"
   ]
  },
  {
   "cell_type": "code",
   "execution_count": 8,
   "metadata": {
    "collapsed": false
   },
   "outputs": [
    {
     "name": "stdout",
     "output_type": "stream",
     "text": [
      "Problem2\n",
      "[16, 28, 28, 1]\n",
      "[16, 14, 14, 16]\n",
      "[16, 7, 7, 16]\n",
      "[10000, 28, 28, 1]\n",
      "[10000, 14, 14, 16]\n",
      "[10000, 7, 7, 16]\n",
      "[10000, 28, 28, 1]\n",
      "[10000, 14, 14, 16]\n",
      "[10000, 7, 7, 16]\n"
     ]
    }
   ],
   "source": [
    "batch_size = 16\n",
    "patch_size = 5\n",
    "depth = 16\n",
    "num_hidden = 64\n",
    "dropout_prob = 0.5\n",
    "\n",
    "graph = tf.Graph()\n",
    "\n",
    "print(\"Problem2\")\n",
    "with graph.as_default():\n",
    "\n",
    "    # Input data.\n",
    "    tf_train_dataset = tf.placeholder(\n",
    "      tf.float32, shape=(batch_size, image_size, image_size, num_channels))\n",
    "    tf_train_labels = tf.placeholder(tf.float32, shape=(batch_size, num_labels))\n",
    "    tf_valid_dataset = tf.constant(valid_dataset)\n",
    "    tf_test_dataset = tf.constant(test_dataset)\n",
    "  \n",
    "    # Variables.\n",
    "    # Dimensions for conv weights are: \n",
    "    # patch_height x patch_width x #channels x depth\n",
    "    layer1_weights = tf.Variable(tf.truncated_normal(\n",
    "      [patch_size, patch_size, num_channels, depth], stddev=0.1))\n",
    "    layer1_biases = tf.Variable(tf.zeros([depth]))\n",
    "    layer2_weights = tf.Variable(tf.truncated_normal(\n",
    "      [patch_size, patch_size, depth, depth], stddev=0.1))\n",
    "    layer2_biases = tf.Variable(tf.constant(1.0, shape=[depth]))\n",
    "    # Divide by 4 here, as images have been halved twice during max pooling steps\n",
    "    layer3_weights = tf.Variable(tf.truncated_normal(\n",
    "      [image_size // 4 * image_size // 4 * depth, num_hidden], stddev=0.1))\n",
    "    layer3_biases = tf.Variable(tf.constant(1.0, shape=[num_hidden]))\n",
    "    layer4_weights = tf.Variable(tf.truncated_normal(\n",
    "      [num_hidden, num_labels], stddev=0.1))\n",
    "    layer4_biases = tf.Variable(tf.constant(1.0, shape=[num_labels]))\n",
    "  \n",
    "    # Model.\n",
    "    def model(data):\n",
    "        # Hidden layer 1\n",
    "        #conv = tf.nn.conv2d(data, layer1_weights, [1, 2, 2, 1], padding='SAME')\n",
    "        #hidden = tf.nn.relu(conv + layer1_biases)\n",
    "        # Dimensions for strides are:\n",
    "        # batch x patch_height x patch_width x #channels\n",
    "        # e.g. [1, 2, 2, 1]\n",
    "        conv = tf.nn.conv2d(data, layer1_weights, [1, 1, 1, 1], padding='SAME')\n",
    "        print(data.get_shape().as_list())\n",
    "        # Do max-pooling with patch size of 2x2 and stride of 2x2, include all batches and channels\n",
    "        maxpool = tf.nn.max_pool(conv, [1, 2, 2, 1], [1, 2, 2, 1], padding='SAME')\n",
    "        hidden = tf.nn.relu(maxpool + layer1_biases)\n",
    "        # Using dropout - NEW\n",
    "        hidden = tf.nn.dropout(hidden, dropout_prob)\n",
    "        print(hidden.get_shape().as_list())\n",
    "        #\n",
    "        # Hidden layer 2\n",
    "        #conv = tf.nn.conv2d(hidden, layer2_weights, [1, 2, 2, 1], padding='SAME')\n",
    "        #hidden = tf.nn.relu(conv + layer2_biases)\n",
    "        conv = tf.nn.conv2d(hidden, layer2_weights, [1, 1, 1, 1], padding='SAME')\n",
    "        maxpool = tf.nn.max_pool(conv, [1, 2, 2, 1], [1, 2, 2, 1], padding='SAME')\n",
    "        hidden = tf.nn.relu(maxpool + layer2_biases)\n",
    "        # Using dropout - NEW\n",
    "        hidden = tf.nn.dropout(hidden, dropout_prob)\n",
    "        shape = hidden.get_shape().as_list()\n",
    "        print(shape)\n",
    "        #\n",
    "        # Fully connected final layer: batch_size x total_features\n",
    "        # Rollout height, width and feature_map into total features\n",
    "        reshape = tf.reshape(hidden, [shape[0], shape[1] * shape[2] * shape[3]])\n",
    "        hidden = tf.nn.relu(tf.matmul(reshape, layer3_weights) + layer3_biases)\n",
    "        # Using dropout - NEW\n",
    "        hidden = tf.nn.dropout(hidden, dropout_prob)\n",
    "        return tf.matmul(hidden, layer4_weights) + layer4_biases\n",
    "\n",
    "    # Training computation.\n",
    "    logits = model(tf_train_dataset)\n",
    "    loss = tf.reduce_mean(tf.nn.softmax_cross_entropy_with_logits(logits, tf_train_labels))\n",
    "    \n",
    "    # Use learning rate decay - NEW\n",
    "    global_step = tf.Variable(0)\n",
    "    learning_rate = tf.train.exponential_decay(0.2, global_step, 10000, 0.96)\n",
    "    \n",
    "    # Optimizer - NEW\n",
    "    #optimizer = tf.train.GradientDescentOptimizer(0.05).minimize(loss)\n",
    "    optimizer = tf.train.GradientDescentOptimizer(learning_rate).minimize(loss, global_step=global_step)\n",
    "  \n",
    "    # Predictions for the training, validation, and test data.\n",
    "    train_prediction = tf.nn.softmax(logits)\n",
    "    valid_prediction = tf.nn.softmax(model(tf_valid_dataset))\n",
    "    test_prediction = tf.nn.softmax(model(tf_test_dataset))"
   ]
  },
  {
   "cell_type": "code",
   "execution_count": 9,
   "metadata": {
    "collapsed": false
   },
   "outputs": [
    {
     "name": "stdout",
     "output_type": "stream",
     "text": [
      "Initialized\n",
      "Minibatch loss at step 0: 5.649518\n",
      "Minibatch accuracy: 6.2%\n",
      "Validation accuracy: 10.4%\n",
      "Minibatch loss at step 50: 2.324049\n",
      "Minibatch accuracy: 12.5%\n",
      "Validation accuracy: 12.8%\n",
      "Minibatch loss at step 100: 2.121173\n",
      "Minibatch accuracy: 25.0%\n",
      "Validation accuracy: 19.3%\n",
      "Minibatch loss at step 150: 2.366560\n",
      "Minibatch accuracy: 25.0%\n",
      "Validation accuracy: 17.2%\n",
      "Minibatch loss at step 200: 2.118935\n",
      "Minibatch accuracy: 25.0%\n",
      "Validation accuracy: 22.5%\n",
      "Minibatch loss at step 250: 2.489249\n",
      "Minibatch accuracy: 6.2%\n",
      "Validation accuracy: 23.9%\n",
      "Minibatch loss at step 300: 1.774330\n",
      "Minibatch accuracy: 31.2%\n",
      "Validation accuracy: 23.9%\n",
      "Minibatch loss at step 350: 2.743913\n",
      "Minibatch accuracy: 37.5%\n",
      "Validation accuracy: 29.3%\n",
      "Minibatch loss at step 400: 1.796861\n",
      "Minibatch accuracy: 37.5%\n",
      "Validation accuracy: 34.1%\n",
      "Minibatch loss at step 450: 2.024087\n",
      "Minibatch accuracy: 31.2%\n",
      "Validation accuracy: 31.4%\n",
      "Minibatch loss at step 500: 2.045249\n",
      "Minibatch accuracy: 6.2%\n",
      "Validation accuracy: 36.0%\n",
      "Minibatch loss at step 550: 1.824360\n",
      "Minibatch accuracy: 31.2%\n",
      "Validation accuracy: 33.0%\n",
      "Minibatch loss at step 600: 2.493344\n",
      "Minibatch accuracy: 25.0%\n",
      "Validation accuracy: 36.3%\n",
      "Minibatch loss at step 650: 2.603277\n",
      "Minibatch accuracy: 18.8%\n",
      "Validation accuracy: 36.4%\n",
      "Minibatch loss at step 700: 1.832464\n",
      "Minibatch accuracy: 31.2%\n",
      "Validation accuracy: 39.6%\n",
      "Minibatch loss at step 750: 1.692683\n",
      "Minibatch accuracy: 43.8%\n",
      "Validation accuracy: 40.8%\n",
      "Minibatch loss at step 800: 1.896492\n",
      "Minibatch accuracy: 43.8%\n",
      "Validation accuracy: 39.4%\n",
      "Minibatch loss at step 850: 1.809458\n",
      "Minibatch accuracy: 25.0%\n",
      "Validation accuracy: 32.9%\n",
      "Minibatch loss at step 900: 2.363876\n",
      "Minibatch accuracy: 43.8%\n",
      "Validation accuracy: 41.8%\n",
      "Minibatch loss at step 950: 1.493961\n",
      "Minibatch accuracy: 50.0%\n",
      "Validation accuracy: 48.6%\n",
      "Minibatch loss at step 1000: 1.789812\n",
      "Minibatch accuracy: 31.2%\n",
      "Validation accuracy: 45.1%\n",
      "Test accuracy: 48.5%\n"
     ]
    }
   ],
   "source": [
    "num_steps = 1001\n",
    "\n",
    "with tf.Session(graph=graph) as session:\n",
    "    tf.initialize_all_variables().run()\n",
    "    print('Initialized')\n",
    "    for step in range(num_steps):\n",
    "        offset = (step * batch_size) % (train_labels.shape[0] - batch_size)\n",
    "        batch_data = train_dataset[offset:(offset + batch_size), :, :, :]\n",
    "        batch_labels = train_labels[offset:(offset + batch_size), :]\n",
    "        feed_dict = {tf_train_dataset : batch_data, tf_train_labels : batch_labels}\n",
    "        _, l, predictions = session.run(\n",
    "          [optimizer, loss, train_prediction], feed_dict=feed_dict)\n",
    "        if (step % 50 == 0):\n",
    "            print('Minibatch loss at step %d: %f' % (step, l))\n",
    "            print('Minibatch accuracy: %.1f%%' % accuracy(predictions, batch_labels))\n",
    "            print('Validation accuracy: %.1f%%' % accuracy(valid_prediction.eval(), valid_labels))\n",
    "    print('Test accuracy: %.1f%%' % accuracy(test_prediction.eval(), test_labels))"
   ]
  },
  {
   "cell_type": "markdown",
   "metadata": {},
   "source": [
    "More \"kernel died unexpectedly\" IPython notebook woe with batch_size 16 on 14.04 with 2GB RAM.  Tried max_pool and avg_pool and it made no difference.  Need to try again with 8GB RAM and then it works.  Too many dropouts above though causing accuracy to drop to 48.5%.  Let's try with less dropouts."
   ]
  },
  {
   "cell_type": "code",
   "execution_count": 5,
   "metadata": {
    "collapsed": false
   },
   "outputs": [
    {
     "name": "stdout",
     "output_type": "stream",
     "text": [
      "Problem2\n",
      "[16, 28, 28, 1]\n",
      "[16, 14, 14, 16]\n",
      "[16, 7, 7, 16]\n",
      "[10000, 28, 28, 1]\n",
      "[10000, 14, 14, 16]\n",
      "[10000, 7, 7, 16]\n",
      "[10000, 28, 28, 1]\n",
      "[10000, 14, 14, 16]\n",
      "[10000, 7, 7, 16]\n"
     ]
    }
   ],
   "source": [
    "batch_size = 16\n",
    "patch_size = 5\n",
    "depth = 16\n",
    "num_hidden = 64\n",
    "dropout_prob = 0.33\n",
    "\n",
    "graph = tf.Graph()\n",
    "\n",
    "print(\"Problem2\")\n",
    "with graph.as_default():\n",
    "\n",
    "    # Input data.\n",
    "    tf_train_dataset = tf.placeholder(\n",
    "      tf.float32, shape=(batch_size, image_size, image_size, num_channels))\n",
    "    tf_train_labels = tf.placeholder(tf.float32, shape=(batch_size, num_labels))\n",
    "    tf_valid_dataset = tf.constant(valid_dataset)\n",
    "    tf_test_dataset = tf.constant(test_dataset)\n",
    "  \n",
    "    # Variables.\n",
    "    # Dimensions for conv weights are: \n",
    "    # patch_height x patch_width x #channels x depth\n",
    "    layer1_weights = tf.Variable(tf.truncated_normal(\n",
    "      [patch_size, patch_size, num_channels, depth], stddev=0.1))\n",
    "    layer1_biases = tf.Variable(tf.zeros([depth]))\n",
    "    layer2_weights = tf.Variable(tf.truncated_normal(\n",
    "      [patch_size, patch_size, depth, depth], stddev=0.1))\n",
    "    layer2_biases = tf.Variable(tf.constant(1.0, shape=[depth]))\n",
    "    # Divide by 4 here, as images have been halved twice during max pooling steps\n",
    "    layer3_weights = tf.Variable(tf.truncated_normal(\n",
    "      [image_size // 4 * image_size // 4 * depth, num_hidden], stddev=0.1))\n",
    "    layer3_biases = tf.Variable(tf.constant(1.0, shape=[num_hidden]))\n",
    "    layer4_weights = tf.Variable(tf.truncated_normal(\n",
    "      [num_hidden, num_labels], stddev=0.1))\n",
    "    layer4_biases = tf.Variable(tf.constant(1.0, shape=[num_labels]))\n",
    "  \n",
    "    # Model.\n",
    "    def model(data):\n",
    "        # Hidden layer 1\n",
    "        #conv = tf.nn.conv2d(data, layer1_weights, [1, 2, 2, 1], padding='SAME')\n",
    "        #hidden = tf.nn.relu(conv + layer1_biases)\n",
    "        # Dimensions for strides are:\n",
    "        # batch x patch_height x patch_width x #channels\n",
    "        # e.g. [1, 2, 2, 1]\n",
    "        conv = tf.nn.conv2d(data, layer1_weights, [1, 1, 1, 1], padding='SAME')\n",
    "        print(data.get_shape().as_list())\n",
    "        # Do max-pooling with patch size of 2x2 and stride of 2x2, include all batches and channels\n",
    "        maxpool = tf.nn.max_pool(conv, [1, 2, 2, 1], [1, 2, 2, 1], padding='SAME')\n",
    "        hidden = tf.nn.relu(maxpool + layer1_biases)\n",
    "        # Using dropout - NEW\n",
    "        #hidden = tf.nn.dropout(hidden, dropout_prob)\n",
    "        print(hidden.get_shape().as_list())\n",
    "        #\n",
    "        # Hidden layer 2\n",
    "        #conv = tf.nn.conv2d(hidden, layer2_weights, [1, 2, 2, 1], padding='SAME')\n",
    "        #hidden = tf.nn.relu(conv + layer2_biases)\n",
    "        conv = tf.nn.conv2d(hidden, layer2_weights, [1, 1, 1, 1], padding='SAME')\n",
    "        maxpool = tf.nn.max_pool(conv, [1, 2, 2, 1], [1, 2, 2, 1], padding='SAME')\n",
    "        hidden = tf.nn.relu(maxpool + layer2_biases)\n",
    "        # Using dropout - NEW\n",
    "        #hidden = tf.nn.dropout(hidden, dropout_prob)\n",
    "        shape = hidden.get_shape().as_list()\n",
    "        print(shape)\n",
    "        #\n",
    "        # Fully connected final layer: batch_size x total_features\n",
    "        # Rollout height, width and feature_map into total features\n",
    "        reshape = tf.reshape(hidden, [shape[0], shape[1] * shape[2] * shape[3]])\n",
    "        hidden = tf.nn.relu(tf.matmul(reshape, layer3_weights) + layer3_biases)\n",
    "        # Using dropout - NEW\n",
    "        hidden = tf.nn.dropout(hidden, dropout_prob)\n",
    "        return tf.matmul(hidden, layer4_weights) + layer4_biases\n",
    "\n",
    "    # Training computation.\n",
    "    logits = model(tf_train_dataset)\n",
    "    loss = tf.reduce_mean(tf.nn.softmax_cross_entropy_with_logits(logits, tf_train_labels))\n",
    "    \n",
    "    # Use learning rate decay - NEW\n",
    "    # Returns the decayed learning rate = learning_rate * decay_rate ^(global_step/decay_steps)\n",
    "    # tf.train.exponential_decay(learning_rate,global_step,decay_steps,decay_rate)\n",
    "    starter_learning_rate = 0.1\n",
    "    global_step = tf.Variable(0)\n",
    "    decay_step = 0.90\n",
    "    learning_rate = tf.train.exponential_decay(starter_learning_rate, global_step, 10000, decay_step)\n",
    "    \n",
    "    # Optimizer - NEW\n",
    "    #optimizer = tf.train.GradientDescentOptimizer(0.05).minimize(loss)\n",
    "    optimizer = tf.train.GradientDescentOptimizer(learning_rate).minimize(loss, global_step=global_step)\n",
    "  \n",
    "    # Predictions for the training, validation, and test data.\n",
    "    train_prediction = tf.nn.softmax(logits)\n",
    "    valid_prediction = tf.nn.softmax(model(tf_valid_dataset))\n",
    "    test_prediction = tf.nn.softmax(model(tf_test_dataset))"
   ]
  },
  {
   "cell_type": "code",
   "execution_count": 6,
   "metadata": {
    "collapsed": false
   },
   "outputs": [
    {
     "name": "stdout",
     "output_type": "stream",
     "text": [
      "Initialized\n",
      "Minibatch loss at step 0: 6.041399\n",
      "Minibatch accuracy: 31.2%\n",
      "Validation accuracy: 10.5%\n",
      "Minibatch loss at step 50: 2.313320\n",
      "Minibatch accuracy: 12.5%\n",
      "Validation accuracy: 16.3%\n",
      "Minibatch loss at step 100: 1.877945\n",
      "Minibatch accuracy: 25.0%\n",
      "Validation accuracy: 26.6%\n",
      "Minibatch loss at step 150: 2.586305\n",
      "Minibatch accuracy: 31.2%\n",
      "Validation accuracy: 31.6%\n",
      "Minibatch loss at step 200: 2.224568\n",
      "Minibatch accuracy: 43.8%\n",
      "Validation accuracy: 38.2%\n",
      "Minibatch loss at step 250: 1.665021\n",
      "Minibatch accuracy: 37.5%\n",
      "Validation accuracy: 48.0%\n",
      "Minibatch loss at step 300: 0.971591\n",
      "Minibatch accuracy: 62.5%\n",
      "Validation accuracy: 53.9%\n",
      "Minibatch loss at step 350: 1.527162\n",
      "Minibatch accuracy: 31.2%\n",
      "Validation accuracy: 55.0%\n",
      "Minibatch loss at step 400: 1.533419\n",
      "Minibatch accuracy: 43.8%\n",
      "Validation accuracy: 56.6%\n",
      "Minibatch loss at step 450: 1.882622\n",
      "Minibatch accuracy: 56.2%\n",
      "Validation accuracy: 57.2%\n",
      "Minibatch loss at step 500: 0.756343\n",
      "Minibatch accuracy: 81.2%\n",
      "Validation accuracy: 62.3%\n",
      "Minibatch loss at step 550: 1.097952\n",
      "Minibatch accuracy: 62.5%\n",
      "Validation accuracy: 66.5%\n",
      "Minibatch loss at step 600: 1.277898\n",
      "Minibatch accuracy: 56.2%\n",
      "Validation accuracy: 64.5%\n",
      "Minibatch loss at step 650: 1.713371\n",
      "Minibatch accuracy: 56.2%\n",
      "Validation accuracy: 64.0%\n",
      "Minibatch loss at step 700: 0.681067\n",
      "Minibatch accuracy: 81.2%\n",
      "Validation accuracy: 68.6%\n",
      "Minibatch loss at step 750: 0.581509\n",
      "Minibatch accuracy: 87.5%\n",
      "Validation accuracy: 68.0%\n",
      "Minibatch loss at step 800: 0.869155\n",
      "Minibatch accuracy: 62.5%\n",
      "Validation accuracy: 69.9%\n",
      "Minibatch loss at step 850: 0.830149\n",
      "Minibatch accuracy: 62.5%\n",
      "Validation accuracy: 65.3%\n",
      "Minibatch loss at step 900: 0.743215\n",
      "Minibatch accuracy: 62.5%\n",
      "Validation accuracy: 70.3%\n",
      "Minibatch loss at step 950: 1.233025\n",
      "Minibatch accuracy: 62.5%\n",
      "Validation accuracy: 72.2%\n",
      "Minibatch loss at step 1000: 0.956788\n",
      "Minibatch accuracy: 68.8%\n",
      "Validation accuracy: 70.8%\n",
      "Test accuracy: 77.0%\n"
     ]
    }
   ],
   "source": [
    "num_steps = 1001\n",
    "\n",
    "with tf.Session(graph=graph) as session:\n",
    "    tf.initialize_all_variables().run()\n",
    "    print('Initialized')\n",
    "    for step in range(num_steps):\n",
    "        offset = (step * batch_size) % (train_labels.shape[0] - batch_size)\n",
    "        batch_data = train_dataset[offset:(offset + batch_size), :, :, :]\n",
    "        batch_labels = train_labels[offset:(offset + batch_size), :]\n",
    "        feed_dict = {tf_train_dataset : batch_data, tf_train_labels : batch_labels}\n",
    "        _, l, predictions = session.run(\n",
    "          [optimizer, loss, train_prediction], feed_dict=feed_dict)\n",
    "        if (step % 50 == 0):\n",
    "            print('Minibatch loss at step %d: %f' % (step, l))\n",
    "            print('Minibatch accuracy: %.1f%%' % accuracy(predictions, batch_labels))\n",
    "            print('Validation accuracy: %.1f%%' % accuracy(valid_prediction.eval(), valid_labels))\n",
    "    print('Test accuracy: %.1f%%' % accuracy(test_prediction.eval(), test_labels))"
   ]
  },
  {
   "cell_type": "code",
   "execution_count": null,
   "metadata": {
    "collapsed": true
   },
   "outputs": [],
   "source": []
  }
 ],
 "metadata": {
  "colab": {
   "default_view": {},
   "name": "4_convolutions.ipynb",
   "provenance": [],
   "version": "0.3.2",
   "views": {}
  },
  "kernelspec": {
   "display_name": "Python 2",
   "language": "python",
   "name": "python2"
  },
  "language_info": {
   "codemirror_mode": {
    "name": "ipython",
    "version": 2
   },
   "file_extension": ".py",
   "mimetype": "text/x-python",
   "name": "python",
   "nbconvert_exporter": "python",
   "pygments_lexer": "ipython2",
   "version": "2.7.3"
  }
 },
 "nbformat": 4,
 "nbformat_minor": 0
}
